{
 "cells": [
  {
   "cell_type": "code",
   "execution_count": null,
   "id": "71a76268",
   "metadata": {},
   "outputs": [],
   "source": [
    "from utils.color_recognition_module import color_histogram_feature_extraction\n",
    "from utils.color_recognition_module import knn_classifier\n",
    "import os\n",
    "from utils.image_utils import crop_image\n",
    "\n",
    "current_path = os.getcwd()\n",
    "\n",
    "\n",
    "def color_recognition(crop_img):\n",
    "\n",
    "    (height, width, channels) = crop_img.shape\n",
    "    crop_img = crop_image.crop_center(crop_img, 50, 50)  # crop the detected vehicle image and get a image piece from center of it both for debugging and sending that image piece to color recognition module\n",
    "\n",
    "    # for debugging\n",
    "    # cv2.imwrite(current_path + \"/debug_utility\"+\".png\",crop_img) # save image piece for debugging\n",
    "    open(current_path + '/utils/color_recognition_module/' + 'test.data', 'w')\n",
    "    color_histogram_feature_extraction.color_histogram_of_test_image(crop_img)  # send image piece to regonize vehicle color\n",
    "    prediction = knn_classifier.main(current_path\n",
    "            + '/utils/color_recognition_module/' + 'training.data',\n",
    "            current_path + '/utils/color_recognition_module/'\n",
    "            + 'test.data')\n",
    "\n",
    "    return prediction"
   ]
  }
 ],
 "metadata": {
  "kernelspec": {
   "display_name": "Python 3 (ipykernel)",
   "language": "python",
   "name": "python3"
  },
  "language_info": {
   "codemirror_mode": {
    "name": "ipython",
    "version": 3
   },
   "file_extension": ".py",
   "mimetype": "text/x-python",
   "name": "python",
   "nbconvert_exporter": "python",
   "pygments_lexer": "ipython3",
   "version": "3.11.5"
  }
 },
 "nbformat": 4,
 "nbformat_minor": 5
}
